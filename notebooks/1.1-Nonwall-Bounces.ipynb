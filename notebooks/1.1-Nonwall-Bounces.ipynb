{
 "cells": [
  {
   "cell_type": "markdown",
   "metadata": {},
   "source": [
    "# Nonwall Bounces"
   ]
  },
  {
   "cell_type": "markdown",
   "metadata": {},
   "source": [
    "# Initial Setup"
   ]
  },
  {
   "cell_type": "markdown",
   "metadata": {},
   "source": [
    "## Jupyter Extensions"
   ]
  },
  {
   "cell_type": "markdown",
   "metadata": {},
   "source": [
    "Load [watermark](https://github.com/rasbt/watermark) to see the state of the machine and environment that's running the notebook. To make sense of the options, take a look at the [usage](https://github.com/rasbt/watermark#usage) section of the readme."
   ]
  },
  {
   "cell_type": "code",
   "execution_count": 1,
   "metadata": {
    "execution": {
     "iopub.execute_input": "2025-03-20T19:13:31.394410Z",
     "iopub.status.busy": "2025-03-20T19:13:31.394242Z",
     "iopub.status.idle": "2025-03-20T19:13:31.403744Z",
     "shell.execute_reply": "2025-03-20T19:13:31.403260Z",
     "shell.execute_reply.started": "2025-03-20T19:13:31.394394Z"
    }
   },
   "outputs": [],
   "source": [
    "# Load `watermark` extension\n",
    "%load_ext watermark"
   ]
  },
  {
   "cell_type": "code",
   "execution_count": 2,
   "metadata": {
    "execution": {
     "iopub.execute_input": "2025-03-20T19:13:31.404396Z",
     "iopub.status.busy": "2025-03-20T19:13:31.404222Z",
     "iopub.status.idle": "2025-03-20T19:13:31.420185Z",
     "shell.execute_reply": "2025-03-20T19:13:31.419722Z",
     "shell.execute_reply.started": "2025-03-20T19:13:31.404381Z"
    }
   },
   "outputs": [
    {
     "name": "stdout",
     "output_type": "stream",
     "text": [
      "Compiler    : GCC 13.3.0\n",
      "OS          : Linux\n",
      "Release     : 6.11.0-19-generic\n",
      "Machine     : x86_64\n",
      "Processor   : x86_64\n",
      "CPU cores   : 8\n",
      "Architecture: 64bit\n",
      "\n",
      "Hostname: apra-desktop-ubuntu\n",
      "\n",
      "Git hash: 8bc6778e2acfd01b921d04aff1635cb65631c055\n",
      "\n",
      "Git branch: t2\n",
      "\n"
     ]
    }
   ],
   "source": [
    "# Display the status of the machine and other non-code related info\n",
    "%watermark -m -g -b -h"
   ]
  },
  {
   "cell_type": "markdown",
   "metadata": {},
   "source": [
    "Load [autoreload](https://ipython.org/ipython-doc/3/config/extensions/autoreload.html) which will always reload modules marked with `%aimport`.\n",
    "\n",
    "This behavior can be inverted by running `autoreload 2` which will set everything to be auto-reloaded *except* for modules marked with `%aimport`."
   ]
  },
  {
   "cell_type": "code",
   "execution_count": 3,
   "metadata": {
    "execution": {
     "iopub.execute_input": "2025-03-20T19:13:31.420779Z",
     "iopub.status.busy": "2025-03-20T19:13:31.420630Z",
     "iopub.status.idle": "2025-03-20T19:13:31.431048Z",
     "shell.execute_reply": "2025-03-20T19:13:31.430581Z",
     "shell.execute_reply.started": "2025-03-20T19:13:31.420765Z"
    }
   },
   "outputs": [],
   "source": [
    "# Load `autoreload` extension\n",
    "%load_ext autoreload"
   ]
  },
  {
   "cell_type": "code",
   "execution_count": 4,
   "metadata": {
    "execution": {
     "iopub.execute_input": "2025-03-20T19:13:31.431749Z",
     "iopub.status.busy": "2025-03-20T19:13:31.431608Z",
     "iopub.status.idle": "2025-03-20T19:13:31.434963Z",
     "shell.execute_reply": "2025-03-20T19:13:31.434278Z",
     "shell.execute_reply.started": "2025-03-20T19:13:31.431736Z"
    }
   },
   "outputs": [],
   "source": [
    "# Set autoreload behavior\n",
    "%autoreload 1"
   ]
  },
  {
   "cell_type": "markdown",
   "metadata": {},
   "source": [
    "Load `matplotlib` in one of the more `jupyter`-friendly [rich-output modes](https://ipython.readthedocs.io/en/stable/interactive/plotting.html). Some options (that may or may not have worked) are `inline`, `notebook`, and `gtk`."
   ]
  },
  {
   "cell_type": "code",
   "execution_count": 5,
   "metadata": {
    "execution": {
     "iopub.execute_input": "2025-03-20T19:13:31.435642Z",
     "iopub.status.busy": "2025-03-20T19:13:31.435480Z",
     "iopub.status.idle": "2025-03-20T19:13:31.837662Z",
     "shell.execute_reply": "2025-03-20T19:13:31.837102Z",
     "shell.execute_reply.started": "2025-03-20T19:13:31.435627Z"
    }
   },
   "outputs": [],
   "source": [
    "# Set the matplotlib mode\n",
    "%matplotlib inline"
   ]
  },
  {
   "cell_type": "markdown",
   "metadata": {},
   "source": [
    "## Imports"
   ]
  },
  {
   "cell_type": "code",
   "execution_count": 6,
   "metadata": {
    "execution": {
     "iopub.execute_input": "2025-03-20T19:13:31.839268Z",
     "iopub.status.busy": "2025-03-20T19:13:31.839066Z",
     "iopub.status.idle": "2025-03-20T19:13:33.728240Z",
     "shell.execute_reply": "2025-03-20T19:13:33.727573Z",
     "shell.execute_reply.started": "2025-03-20T19:13:31.839253Z"
    }
   },
   "outputs": [
    {
     "name": "stdout",
     "output_type": "stream",
     "text": [
      "Python implementation: CPython\n",
      "Python version       : 3.13.1\n",
      "IPython version      : 8.31.0\n",
      "\n",
      "pandas            : 2.2.3\n",
      "seaborn           : 0.13.2\n",
      "numpy             : 2.2.2\n",
      "cv2               : 4.10.0\n",
      "bouncing_ball_task: 0.0.0\n",
      "matplotlib        : 3.10.0\n",
      "\n"
     ]
    }
   ],
   "source": [
    "# Standard library imports\n",
    "import shutil\n",
    "from pathlib import Path\n",
    "\n",
    "# Third party\n",
    "import cv2\n",
    "import numpy as np\n",
    "import pandas as pd\n",
    "import seaborn as sns\n",
    "import matplotlib.pyplot as plt\n",
    "from loguru import logger\n",
    "\n",
    "# %aimport hmdcpd.visualization\n",
    "# %aimport hmdcpd.analysis\n",
    "# from hmdcpd import (\n",
    "#     visualization,\n",
    "#     analysis,\n",
    "# )\n",
    "\n",
    "%aimport bouncing_ball_task.bouncing_ball\n",
    "%aimport bouncing_ball_task.human_bouncing_ball.dataset\n",
    "%aimport bouncing_ball_task.human_bouncing_ball.catch\n",
    "%aimport bouncing_ball_task.human_bouncing_ball.straight\n",
    "%aimport bouncing_ball_task.human_bouncing_ball.bounce\n",
    "%aimport bouncing_ball_task.human_bouncing_ball.nonwall\n",
    "%aimport bouncing_ball_task.human_bouncing_ball.defaults\n",
    "%aimport bouncing_ball_task.utils.pyutils\n",
    "%aimport bouncing_ball_task.utils.taskutils\n",
    "%aimport bouncing_ball_task.utils.htaskutils\n",
    "%aimport bouncing_ball_task.utils.visualize\n",
    "%aimport bouncing_ball_task.utils.gif\n",
    "from bouncing_ball_task.utils import pyutils, visualize, gif\n",
    "from bouncing_ball_task.human_bouncing_ball import dataset as hbb\n",
    "from bouncing_ball_task.human_bouncing_ball import defaults\n",
    "from bouncing_ball_task import index\n",
    "\n",
    "# Display  versions of everything\n",
    "%watermark -v -iv"
   ]
  },
  {
   "cell_type": "code",
   "execution_count": 7,
   "metadata": {
    "execution": {
     "iopub.execute_input": "2025-03-20T19:13:33.729171Z",
     "iopub.status.busy": "2025-03-20T19:13:33.728819Z",
     "iopub.status.idle": "2025-03-20T19:13:33.732790Z",
     "shell.execute_reply": "2025-03-20T19:13:33.732257Z",
     "shell.execute_reply.started": "2025-03-20T19:13:33.729156Z"
    }
   },
   "outputs": [],
   "source": [
    "# Suppress sci notation\n",
    "np.set_printoptions(suppress=True)\n",
    "pd.set_option('display.float_format', lambda x: '%.5f' % x)"
   ]
  },
  {
   "cell_type": "code",
   "execution_count": 8,
   "metadata": {
    "execution": {
     "iopub.execute_input": "2025-03-20T19:13:33.733561Z",
     "iopub.status.busy": "2025-03-20T19:13:33.733382Z",
     "iopub.status.idle": "2025-03-20T19:13:33.737779Z",
     "shell.execute_reply": "2025-03-20T19:13:33.737258Z",
     "shell.execute_reply.started": "2025-03-20T19:13:33.733545Z"
    }
   },
   "outputs": [],
   "source": [
    "from IPython.display import Video, HTML\n",
    "from base64 import b64encode\n",
    "\n",
    "def display_video(path):\n",
    "    mp4 = open(path, 'rb').read()\n",
    "    data_url = \"data:video/mp4;base64,\" + b64encode(mp4).decode()\n",
    "    display(\n",
    "        HTML(\n",
    "            f\"\"\"\n",
    "            <video width=\"400\" controls autoplay loop>\n",
    "                <source src=\"{data_url}\" type=\"video/mp4\">\n",
    "                Your browser does not support the video tag.\n",
    "            </video>\n",
    "            \"\"\"\n",
    "        )\n",
    "    )"
   ]
  },
  {
   "cell_type": "markdown",
   "metadata": {},
   "source": [
    "# Loading Task Instance"
   ]
  },
  {
   "cell_type": "code",
   "execution_count": 9,
   "metadata": {
    "execution": {
     "iopub.execute_input": "2025-03-20T19:13:33.738624Z",
     "iopub.status.busy": "2025-03-20T19:13:33.738396Z",
     "iopub.status.idle": "2025-03-20T19:13:33.743208Z",
     "shell.execute_reply": "2025-03-20T19:13:33.742575Z",
     "shell.execute_reply.started": "2025-03-20T19:13:33.738603Z"
    }
   },
   "outputs": [],
   "source": [
    "# Task Parameters\n",
    "rerun = True\n",
    "task_parameters = defaults.task_parameters.asdict()\n",
    "human_dataset_parameters = defaults.human_dataset_parameters.asdict()\n",
    "\n",
    "task_parameters[\"batch_size\"] = batch_size = 8\n",
    "human_dataset_parameters[\"num_blocks\"] = num_blocks = 2\n",
    "human_dataset_parameters[\"variable_length\"] = variable_length = True\n",
    "human_dataset_parameters[\"total_videos\"] = total_videos = batch_size\n",
    "human_dataset_parameters[\"total_dataset_length\"] = total_dataset_length = None\n",
    "human_dataset_parameters[\"trial_type_split\"] = trial_type_split = (1, 1, 5, 1)"
   ]
  },
  {
   "cell_type": "code",
   "execution_count": 10,
   "metadata": {
    "execution": {
     "iopub.execute_input": "2025-03-20T19:13:33.744166Z",
     "iopub.status.busy": "2025-03-20T19:13:33.743949Z",
     "iopub.status.idle": "2025-03-20T19:13:33.914989Z",
     "shell.execute_reply": "2025-03-20T19:13:33.914398Z",
     "shell.execute_reply.started": "2025-03-20T19:13:33.744144Z"
    },
    "scrolled": true
   },
   "outputs": [
    {
     "name": "stderr",
     "output_type": "stream",
     "text": [
      "\u001b[32m2025-03-20 15:13:33.846\u001b[0m | \u001b[34m\u001b[1mDEBUG   \u001b[0m | \u001b[36mbouncing_ball_task.bouncing_ball\u001b[0m:\u001b[36mcolor_mask_mode\u001b[0m:\u001b[36m503\u001b[0m - \u001b[34m\u001b[1mRunning color_mask_mode setter\u001b[0m\n",
      "\u001b[32m2025-03-20 15:13:33.847\u001b[0m | \u001b[34m\u001b[1mDEBUG   \u001b[0m | \u001b[36mbouncing_ball_task.bouncing_ball\u001b[0m:\u001b[36mtransitioning_change_mode\u001b[0m:\u001b[36m481\u001b[0m - \u001b[34m\u001b[1mRunning transitioning_change_mode setter\u001b[0m\n",
      "\u001b[32m2025-03-20 15:13:33.847\u001b[0m | \u001b[34m\u001b[1mDEBUG   \u001b[0m | \u001b[36mbouncing_ball_task.bouncing_ball\u001b[0m:\u001b[36msequence_mode\u001b[0m:\u001b[36m433\u001b[0m - \u001b[34m\u001b[1mRunning sequence_mode setter\u001b[0m\n",
      "\u001b[32m2025-03-20 15:13:33.847\u001b[0m | \u001b[34m\u001b[1mDEBUG   \u001b[0m | \u001b[36mbouncing_ball_task.bouncing_ball\u001b[0m:\u001b[36mresample_change_probabilities\u001b[0m:\u001b[36m529\u001b[0m - \u001b[34m\u001b[1mRunning resample_change_probabilities\u001b[0m\n",
      "\u001b[32m2025-03-20 15:13:33.848\u001b[0m | \u001b[34m\u001b[1mDEBUG   \u001b[0m | \u001b[36mbouncing_ball_task.bouncing_ball\u001b[0m:\u001b[36mcolor_sampling\u001b[0m:\u001b[36m410\u001b[0m - \u001b[34m\u001b[1mRunning color_sampling setter\u001b[0m\n",
      "\u001b[32m2025-03-20 15:13:33.850\u001b[0m | \u001b[34m\u001b[1mDEBUG   \u001b[0m | \u001b[36mbouncing_ball_task.bouncing_ball\u001b[0m:\u001b[36mreturn_change_mode\u001b[0m:\u001b[36m467\u001b[0m - \u001b[34m\u001b[1mRunning return_change_mode setter\u001b[0m\n"
     ]
    },
    {
     "name": "stdout",
     "output_type": "stream",
     "text": [
      "Dataset Generation Summary\n",
      "  Num Total Trials: 8 (1 min 13.3 sec)\n",
      "    ball_radius:                         10\n",
      "    dt:                                  0.1\n",
      "    duration:                            30\n",
      "    exp_scale:                           1.75\n",
      "    border_tolerance_outer:              1.25\n",
      "    mask_center:                         0.5\n",
      "    mask_fraction:                       0.3333333333333333\n",
      "    size_x:                              256\n",
      "    size_y:                              256\n",
      "    num_pos_x_endpoints:                 3\n",
      "    num_pos_y_endpoints:                 4\n",
      "    y_pos_multiplier:                    4\n",
      "    pvc:                                 0.001\n",
      "    num_y_velocities:                    2\n",
      "    bounce_offset:                       0.4\n",
      "    border_tolerance_inner:              1.0\n",
      "    num_pos_x_linspace_bounce:           5\n",
      "    idx_linspace_bounce:                 1\n",
      "    bounce_timestep:                     7\n",
      "    repeat_factor:                       3\n",
      "    seed:                                3953152948\n",
      "    num_blocks:                          2\n",
      "    variable_length:                     True\n",
      "    standard:                            True\n",
      "    length_trials_ms:                    73350\n",
      "    video_length_max_f:                  562\n",
      "    video_length_max_ms:                 16860\n",
      "    video_length_min_f:                  200\n",
      "    video_length_min_ms:                 6000\n",
      "    final_velocity_x_magnitude:          27.306666662399998\n",
      "    final_velocity_y_magnitude_linspace: [20.48       34.13333332]\n",
      "    pccnvc_linspace:                     [0.00575 0.0575 ]\n",
      "    pccovc_linspace:                     [0.025 0.5   0.975]\n",
      "    mask_size:                           85\n",
      "    mask_start:                          86\n",
      "    mask_end:                            170\n",
      "    x_grayzone_linspace:                 [106. 128. 150.]\n",
      "    x_grayzone_linspace_sides:           [[106. 128. 150.]\n",
      " [150. 128. 106.]]\n",
      "    diff:                                22.0\n",
      "  Num Catch Trials: 1 (0 min 6.0 sec)\n",
      "    Min Video Length (s):  6.0\n",
      "    Max Video Length (s):  6.0\n",
      "    Color Splits:          (1.0)\n",
      "    pccnvc Splits:         (1.0)\n",
      "    pccovc Splits:         (1.0)\n",
      "    Stat Comb Splits:      (1.0)\n",
      "  Num Straight Trials: 1 (0 min 6.2 sec)\n",
      "    Min Video Length (s):  6.2\n",
      "    Max Video Length (s):  6.2\n",
      "    Color Splits:          (1.0)\n",
      "    pccnvc Splits:         (1.0)\n",
      "    pccovc Splits:         (1.0)\n",
      "    Stat Comb Splits:      (1.0)\n",
      "    End time Splits:       (1.0)\n",
      "    Left/Right Splits:     (1.0)\n",
      "    Top/Bottom Splits:     (1.0)\n",
      "    Velocity Splits:       (1.0)\n",
      "  Num Bounce Trials: 5 (0 min 44.3 sec)\n",
      "    Min Video Length (s):  6.5\n",
      "    Max Video Length (s):  13.8\n",
      "    Color Splits:          (0.4, 0.2, 0.4)\n",
      "    pccnvc Splits:         (0.6, 0.4)\n",
      "    pccovc Splits:         (0.4, 0.4, 0.2)\n",
      "    Stat Comb Splits:      (0.4, 0.2, 0.2, 0.2)\n",
      "    End time Splits:       (1.0)\n",
      "    Left/Right Splits:     (0.6, 0.4)\n",
      "    Top/Bottom Splits:     (0.4, 0.6)\n",
      "    Velocity Splits:       (0.4, 0.6)\n",
      "  Num Nonwall Trials: 1 (0 min 16.9 sec)\n",
      "    Min Video Length (s):  16.9\n",
      "    Max Video Length (s):  16.9\n",
      "    Color Splits:          (1.0)\n",
      "    pccnvc Splits:         (1.0)\n",
      "    pccovc Splits:         (1.0)\n",
      "    Stat Comb Splits:      (1.0)\n",
      "    End time Splits:       (1.0)\n",
      "    Left/Right Splits:     (1.0)\n",
      "    Top/Bottom Splits:     (1.0)\n",
      "    Velocity Splits:       (1.0)\n"
     ]
    }
   ],
   "source": [
    "task, list_samples, list_targets, df_data, dict_metadata = hbb.generate_video_dataset(\n",
    "    human_dataset_parameters,\n",
    "    task_parameters,\n",
    "    shuffle=False,\n",
    ")\n",
    "\n",
    "rerun = True\n",
    "mask_start = task.mask_start\n",
    "mask_end = task.mask_end\n",
    "mask_color = task.mask_color\n",
    "samples = task.samples\n",
    "targets = task.targets"
   ]
  },
  {
   "cell_type": "markdown",
   "metadata": {},
   "source": [
    "## Getting Video Paths"
   ]
  },
  {
   "cell_type": "code",
   "execution_count": 11,
   "metadata": {
    "execution": {
     "iopub.execute_input": "2025-03-20T19:13:33.915845Z",
     "iopub.status.busy": "2025-03-20T19:13:33.915588Z",
     "iopub.status.idle": "2025-03-20T19:13:33.920381Z",
     "shell.execute_reply": "2025-03-20T19:13:33.919858Z",
     "shell.execute_reply.started": "2025-03-20T19:13:33.915823Z"
    }
   },
   "outputs": [],
   "source": [
    "dir_base = index.dir_data\n",
    "dir_name = \"tmp\"\n",
    "dir_dataset = dir_base / dir_name\n",
    "dir_videos = dir_dataset / \"videos\"\n",
    "\n",
    "path_videos_inferred = [\n",
    "    dir_videos / f\"block_{block}/video_{video}/video_{video}_{color}.mp4\"\n",
    "    for (color, block, video) in\n",
    "    df_data[[\"Final Color\", \"Dataset Block\", \"Dataset Block Video\"]].to_numpy().tolist()\n",
    "]"
   ]
  },
  {
   "cell_type": "code",
   "execution_count": 12,
   "metadata": {
    "execution": {
     "iopub.execute_input": "2025-03-20T19:13:33.921078Z",
     "iopub.status.busy": "2025-03-20T19:13:33.920913Z",
     "iopub.status.idle": "2025-03-20T19:13:33.926255Z",
     "shell.execute_reply": "2025-03-20T19:13:33.925781Z",
     "shell.execute_reply.started": "2025-03-20T19:13:33.921063Z"
    }
   },
   "outputs": [],
   "source": [
    "if (rerun or (\n",
    "    dir_dataset.exists() and\n",
    "    not np.all([path.exists() for path in path_videos_inferred])\n",
    ")\n",
    "   ):\n",
    "    shutil.rmtree(dir_dataset)\n",
    "    rerun = False"
   ]
  },
  {
   "cell_type": "code",
   "execution_count": 13,
   "metadata": {
    "execution": {
     "iopub.execute_input": "2025-03-20T19:13:33.927086Z",
     "iopub.status.busy": "2025-03-20T19:13:33.926827Z",
     "iopub.status.idle": "2025-03-20T19:13:43.528131Z",
     "shell.execute_reply": "2025-03-20T19:13:43.527587Z",
     "shell.execute_reply.started": "2025-03-20T19:13:33.927066Z"
    },
    "scrolled": true
   },
   "outputs": [
    {
     "name": "stderr",
     "output_type": "stream",
     "text": [
      "\u001b[32m2025-03-20 15:13:33.929\u001b[0m | \u001b[1mINFO    \u001b[0m | \u001b[36mbouncing_ball_task.human_bouncing_ball.dataset\u001b[0m:\u001b[36msave_video_dataset\u001b[0m:\u001b[36m496\u001b[0m - \u001b[1mSaving dataset to /home/apra/Work/Bouncing-Ball-Task/data/tmp (dir_dataset)\u001b[0m\n",
      "\u001b[32m2025-03-20 15:13:33.930\u001b[0m | \u001b[1mINFO    \u001b[0m | \u001b[36mbouncing_ball_task.human_bouncing_ball.dataset\u001b[0m:\u001b[36msave_video_dataset\u001b[0m:\u001b[36m504\u001b[0m - \u001b[1mSaving trial metadata to to /dir_dataset/trial_meta\u001b[0m\n",
      "\u001b[32m2025-03-20 15:13:33.934\u001b[0m | \u001b[1mINFO    \u001b[0m | \u001b[36mbouncing_ball_task.human_bouncing_ball.dataset\u001b[0m:\u001b[36msave_video_dataset\u001b[0m:\u001b[36m513\u001b[0m - \u001b[1mSaving dataset metadata to to /dir_dataset/dataset_meta\u001b[0m\n",
      "\u001b[32m2025-03-20 15:13:33.937\u001b[0m | \u001b[34m\u001b[1mDEBUG   \u001b[0m | \u001b[36mbouncing_ball_task.human_bouncing_ball.dataset\u001b[0m:\u001b[36msave_video_dataset\u001b[0m:\u001b[36m548\u001b[0m - \u001b[34m\u001b[1mGenerating video files in /dir_dataset/videos/block_2/video_2\u001b[0m\n",
      "OpenCV: FFMPEG: tag 0x34363248/'H264' is not supported with codec id 27 and format 'mp4 / MP4 (MPEG-4 Part 14)'\n",
      "OpenCV: FFMPEG: fallback to use tag 0x31637661/'avc1'\n",
      "\u001b[32m2025-03-20 15:13:34.809\u001b[0m | \u001b[34m\u001b[1mDEBUG   \u001b[0m | \u001b[36mbouncing_ball_task.human_bouncing_ball.dataset\u001b[0m:\u001b[36msave_video_dataset\u001b[0m:\u001b[36m548\u001b[0m - \u001b[34m\u001b[1mGenerating video files in /dir_dataset/videos/block_1/video_3\u001b[0m\n",
      "OpenCV: FFMPEG: tag 0x34363248/'H264' is not supported with codec id 27 and format 'mp4 / MP4 (MPEG-4 Part 14)'\n",
      "OpenCV: FFMPEG: fallback to use tag 0x31637661/'avc1'\n",
      "\u001b[32m2025-03-20 15:13:35.575\u001b[0m | \u001b[34m\u001b[1mDEBUG   \u001b[0m | \u001b[36mbouncing_ball_task.human_bouncing_ball.dataset\u001b[0m:\u001b[36msave_video_dataset\u001b[0m:\u001b[36m548\u001b[0m - \u001b[34m\u001b[1mGenerating video files in /dir_dataset/videos/block_2/video_3\u001b[0m\n",
      "OpenCV: FFMPEG: tag 0x34363248/'H264' is not supported with codec id 27 and format 'mp4 / MP4 (MPEG-4 Part 14)'\n",
      "OpenCV: FFMPEG: fallback to use tag 0x31637661/'avc1'\n",
      "\u001b[32m2025-03-20 15:13:36.759\u001b[0m | \u001b[34m\u001b[1mDEBUG   \u001b[0m | \u001b[36mbouncing_ball_task.human_bouncing_ball.dataset\u001b[0m:\u001b[36msave_video_dataset\u001b[0m:\u001b[36m548\u001b[0m - \u001b[34m\u001b[1mGenerating video files in /dir_dataset/videos/block_1/video_2\u001b[0m\n",
      "OpenCV: FFMPEG: tag 0x34363248/'H264' is not supported with codec id 27 and format 'mp4 / MP4 (MPEG-4 Part 14)'\n",
      "OpenCV: FFMPEG: fallback to use tag 0x31637661/'avc1'\n",
      "\u001b[32m2025-03-20 15:13:37.617\u001b[0m | \u001b[34m\u001b[1mDEBUG   \u001b[0m | \u001b[36mbouncing_ball_task.human_bouncing_ball.dataset\u001b[0m:\u001b[36msave_video_dataset\u001b[0m:\u001b[36m548\u001b[0m - \u001b[34m\u001b[1mGenerating video files in /dir_dataset/videos/block_1/video_4\u001b[0m\n",
      "OpenCV: FFMPEG: tag 0x34363248/'H264' is not supported with codec id 27 and format 'mp4 / MP4 (MPEG-4 Part 14)'\n",
      "OpenCV: FFMPEG: fallback to use tag 0x31637661/'avc1'\n",
      "\u001b[32m2025-03-20 15:13:39.438\u001b[0m | \u001b[34m\u001b[1mDEBUG   \u001b[0m | \u001b[36mbouncing_ball_task.human_bouncing_ball.dataset\u001b[0m:\u001b[36msave_video_dataset\u001b[0m:\u001b[36m548\u001b[0m - \u001b[34m\u001b[1mGenerating video files in /dir_dataset/videos/block_2/video_1\u001b[0m\n",
      "OpenCV: FFMPEG: tag 0x34363248/'H264' is not supported with codec id 27 and format 'mp4 / MP4 (MPEG-4 Part 14)'\n",
      "OpenCV: FFMPEG: fallback to use tag 0x31637661/'avc1'\n",
      "\u001b[32m2025-03-20 15:13:40.446\u001b[0m | \u001b[34m\u001b[1mDEBUG   \u001b[0m | \u001b[36mbouncing_ball_task.human_bouncing_ball.dataset\u001b[0m:\u001b[36msave_video_dataset\u001b[0m:\u001b[36m548\u001b[0m - \u001b[34m\u001b[1mGenerating video files in /dir_dataset/videos/block_1/video_1\u001b[0m\n",
      "OpenCV: FFMPEG: tag 0x34363248/'H264' is not supported with codec id 27 and format 'mp4 / MP4 (MPEG-4 Part 14)'\n",
      "OpenCV: FFMPEG: fallback to use tag 0x31637661/'avc1'\n",
      "\u001b[32m2025-03-20 15:13:41.248\u001b[0m | \u001b[34m\u001b[1mDEBUG   \u001b[0m | \u001b[36mbouncing_ball_task.human_bouncing_ball.dataset\u001b[0m:\u001b[36msave_video_dataset\u001b[0m:\u001b[36m548\u001b[0m - \u001b[34m\u001b[1mGenerating video files in /dir_dataset/videos/block_2/video_4\u001b[0m\n",
      "OpenCV: FFMPEG: tag 0x34363248/'H264' is not supported with codec id 27 and format 'mp4 / MP4 (MPEG-4 Part 14)'\n",
      "OpenCV: FFMPEG: fallback to use tag 0x31637661/'avc1'\n"
     ]
    }
   ],
   "source": [
    "if not dir_dataset.exists():\n",
    "    path_videos = hbb.save_video_dataset(\n",
    "        dir_base,\n",
    "        dir_name,\n",
    "        df_data,\n",
    "        dict_metadata,\n",
    "        list_samples,\n",
    "        list_targets,\n",
    "        task,\n",
    "        duration=defaults.duration,\n",
    "        mode=\"original\",\n",
    "        multiplier=2,\n",
    "        save_target=True,\n",
    "        save_animation=True,\n",
    "        display_animation=False,\n",
    "        num_sequences=1,\n",
    "        as_mp4=True,\n",
    "        include_timestep=False,\n",
    "        return_path=True,\n",
    "    )\n",
    "\n",
    "assert np.all(path.exists() for path in path_videos)\n",
    "assert np.all(path.exists() for path in path_videos_inferred)\n",
    "assert np.all((path in path_videos) for path in path_videos_inferred)"
   ]
  },
  {
   "cell_type": "code",
   "execution_count": 14,
   "metadata": {
    "execution": {
     "iopub.execute_input": "2025-03-20T19:13:43.528854Z",
     "iopub.status.busy": "2025-03-20T19:13:43.528664Z",
     "iopub.status.idle": "2025-03-20T19:13:43.545082Z",
     "shell.execute_reply": "2025-03-20T19:13:43.544571Z",
     "shell.execute_reply.started": "2025-03-20T19:13:43.528839Z"
    },
    "scrolled": true
   },
   "outputs": [
    {
     "data": {
      "text/html": [
       "<div>\n",
       "<style scoped>\n",
       "    .dataframe tbody tr th:only-of-type {\n",
       "        vertical-align: middle;\n",
       "    }\n",
       "\n",
       "    .dataframe tbody tr th {\n",
       "        vertical-align: top;\n",
       "    }\n",
       "\n",
       "    .dataframe thead th {\n",
       "        text-align: right;\n",
       "    }\n",
       "</style>\n",
       "<table border=\"1\" class=\"dataframe\">\n",
       "  <thead>\n",
       "    <tr style=\"text-align: right;\">\n",
       "      <th></th>\n",
       "      <th>idx_trial</th>\n",
       "      <th>trial</th>\n",
       "      <th>idx_time</th>\n",
       "      <th>side_left_right</th>\n",
       "      <th>side_top_bottom</th>\n",
       "      <th>idx_velocity_y</th>\n",
       "      <th>idx_x_position</th>\n",
       "      <th>idx_y_position</th>\n",
       "      <th>length</th>\n",
       "      <th>Final Color</th>\n",
       "      <th>...</th>\n",
       "      <th>Bounces</th>\n",
       "      <th>Random Bounces</th>\n",
       "      <th>Color Change Bounce</th>\n",
       "      <th>Color Change Random</th>\n",
       "      <th>PCCNVC_effective</th>\n",
       "      <th>PCCOVC_effective</th>\n",
       "      <th>PVC_effective</th>\n",
       "      <th>Hazard Rate</th>\n",
       "      <th>Contingency</th>\n",
       "      <th>Path Videos</th>\n",
       "    </tr>\n",
       "    <tr>\n",
       "      <th>Video ID</th>\n",
       "      <th></th>\n",
       "      <th></th>\n",
       "      <th></th>\n",
       "      <th></th>\n",
       "      <th></th>\n",
       "      <th></th>\n",
       "      <th></th>\n",
       "      <th></th>\n",
       "      <th></th>\n",
       "      <th></th>\n",
       "      <th></th>\n",
       "      <th></th>\n",
       "      <th></th>\n",
       "      <th></th>\n",
       "      <th></th>\n",
       "      <th></th>\n",
       "      <th></th>\n",
       "      <th></th>\n",
       "      <th></th>\n",
       "      <th></th>\n",
       "      <th></th>\n",
       "    </tr>\n",
       "  </thead>\n",
       "  <tbody>\n",
       "    <tr>\n",
       "      <th>0</th>\n",
       "      <td>0</td>\n",
       "      <td>Catch</td>\n",
       "      <td>-1</td>\n",
       "      <td>-1</td>\n",
       "      <td>-1</td>\n",
       "      <td>-1</td>\n",
       "      <td>-1</td>\n",
       "      <td>-1.00000</td>\n",
       "      <td>200</td>\n",
       "      <td>red</td>\n",
       "      <td>...</td>\n",
       "      <td>4</td>\n",
       "      <td>0</td>\n",
       "      <td>0</td>\n",
       "      <td>4</td>\n",
       "      <td>0.02041</td>\n",
       "      <td>0.00000</td>\n",
       "      <td>0.00000</td>\n",
       "      <td>High</td>\n",
       "      <td>Low</td>\n",
       "      <td>/home/apra/Work/Bouncing-Ball-Task/data/tmp/vi...</td>\n",
       "    </tr>\n",
       "    <tr>\n",
       "      <th>1</th>\n",
       "      <td>0</td>\n",
       "      <td>Straight</td>\n",
       "      <td>0</td>\n",
       "      <td>1</td>\n",
       "      <td>0</td>\n",
       "      <td>0</td>\n",
       "      <td>-1</td>\n",
       "      <td>-1.00000</td>\n",
       "      <td>206</td>\n",
       "      <td>red</td>\n",
       "      <td>...</td>\n",
       "      <td>4</td>\n",
       "      <td>0</td>\n",
       "      <td>0</td>\n",
       "      <td>0</td>\n",
       "      <td>0.00000</td>\n",
       "      <td>0.00000</td>\n",
       "      <td>0.00000</td>\n",
       "      <td>Low</td>\n",
       "      <td>Low</td>\n",
       "      <td>/home/apra/Work/Bouncing-Ball-Task/data/tmp/vi...</td>\n",
       "    </tr>\n",
       "    <tr>\n",
       "      <th>2</th>\n",
       "      <td>0</td>\n",
       "      <td>Bounce</td>\n",
       "      <td>-1</td>\n",
       "      <td>0</td>\n",
       "      <td>0</td>\n",
       "      <td>1</td>\n",
       "      <td>0</td>\n",
       "      <td>NaN</td>\n",
       "      <td>308</td>\n",
       "      <td>red</td>\n",
       "      <td>...</td>\n",
       "      <td>9</td>\n",
       "      <td>0</td>\n",
       "      <td>0</td>\n",
       "      <td>0</td>\n",
       "      <td>0.00000</td>\n",
       "      <td>0.00000</td>\n",
       "      <td>0.00000</td>\n",
       "      <td>Low</td>\n",
       "      <td>Low</td>\n",
       "      <td>/home/apra/Work/Bouncing-Ball-Task/data/tmp/vi...</td>\n",
       "    </tr>\n",
       "    <tr>\n",
       "      <th>3</th>\n",
       "      <td>1</td>\n",
       "      <td>Bounce</td>\n",
       "      <td>-1</td>\n",
       "      <td>1</td>\n",
       "      <td>1</td>\n",
       "      <td>0</td>\n",
       "      <td>1</td>\n",
       "      <td>NaN</td>\n",
       "      <td>228</td>\n",
       "      <td>green</td>\n",
       "      <td>...</td>\n",
       "      <td>5</td>\n",
       "      <td>0</td>\n",
       "      <td>1</td>\n",
       "      <td>5</td>\n",
       "      <td>0.02242</td>\n",
       "      <td>0.20000</td>\n",
       "      <td>0.00000</td>\n",
       "      <td>High</td>\n",
       "      <td>Medium</td>\n",
       "      <td>/home/apra/Work/Bouncing-Ball-Task/data/tmp/vi...</td>\n",
       "    </tr>\n",
       "    <tr>\n",
       "      <th>4</th>\n",
       "      <td>2</td>\n",
       "      <td>Bounce</td>\n",
       "      <td>-1</td>\n",
       "      <td>1</td>\n",
       "      <td>1</td>\n",
       "      <td>0</td>\n",
       "      <td>1</td>\n",
       "      <td>NaN</td>\n",
       "      <td>460</td>\n",
       "      <td>blue</td>\n",
       "      <td>...</td>\n",
       "      <td>9</td>\n",
       "      <td>0</td>\n",
       "      <td>8</td>\n",
       "      <td>10</td>\n",
       "      <td>0.02217</td>\n",
       "      <td>0.88889</td>\n",
       "      <td>0.00000</td>\n",
       "      <td>High</td>\n",
       "      <td>High</td>\n",
       "      <td>/home/apra/Work/Bouncing-Ball-Task/data/tmp/vi...</td>\n",
       "    </tr>\n",
       "  </tbody>\n",
       "</table>\n",
       "<p>5 rows × 38 columns</p>\n",
       "</div>"
      ],
      "text/plain": [
       "          idx_trial     trial  idx_time  side_left_right  side_top_bottom  \\\n",
       "Video ID                                                                    \n",
       "0                 0     Catch        -1               -1               -1   \n",
       "1                 0  Straight         0                1                0   \n",
       "2                 0    Bounce        -1                0                0   \n",
       "3                 1    Bounce        -1                1                1   \n",
       "4                 2    Bounce        -1                1                1   \n",
       "\n",
       "          idx_velocity_y  idx_x_position  idx_y_position  length Final Color  \\\n",
       "Video ID                                                                       \n",
       "0                     -1              -1        -1.00000     200         red   \n",
       "1                      0              -1        -1.00000     206         red   \n",
       "2                      1               0             NaN     308         red   \n",
       "3                      0               1             NaN     228       green   \n",
       "4                      0               1             NaN     460        blue   \n",
       "\n",
       "          ...  Bounces  Random Bounces  Color Change Bounce  \\\n",
       "Video ID  ...                                                 \n",
       "0         ...        4               0                    0   \n",
       "1         ...        4               0                    0   \n",
       "2         ...        9               0                    0   \n",
       "3         ...        5               0                    1   \n",
       "4         ...        9               0                    8   \n",
       "\n",
       "          Color Change Random  PCCNVC_effective  PCCOVC_effective  \\\n",
       "Video ID                                                            \n",
       "0                           4           0.02041           0.00000   \n",
       "1                           0           0.00000           0.00000   \n",
       "2                           0           0.00000           0.00000   \n",
       "3                           5           0.02242           0.20000   \n",
       "4                          10           0.02217           0.88889   \n",
       "\n",
       "          PVC_effective  Hazard Rate  Contingency  \\\n",
       "Video ID                                            \n",
       "0               0.00000         High          Low   \n",
       "1               0.00000          Low          Low   \n",
       "2               0.00000          Low          Low   \n",
       "3               0.00000         High       Medium   \n",
       "4               0.00000         High         High   \n",
       "\n",
       "                                                Path Videos  \n",
       "Video ID                                                     \n",
       "0         /home/apra/Work/Bouncing-Ball-Task/data/tmp/vi...  \n",
       "1         /home/apra/Work/Bouncing-Ball-Task/data/tmp/vi...  \n",
       "2         /home/apra/Work/Bouncing-Ball-Task/data/tmp/vi...  \n",
       "3         /home/apra/Work/Bouncing-Ball-Task/data/tmp/vi...  \n",
       "4         /home/apra/Work/Bouncing-Ball-Task/data/tmp/vi...  \n",
       "\n",
       "[5 rows x 38 columns]"
      ]
     },
     "execution_count": 14,
     "metadata": {},
     "output_type": "execute_result"
    }
   ],
   "source": [
    "df_data[\"Path Videos\"] = path_videos_inferred\n",
    "df_data.head()"
   ]
  },
  {
   "cell_type": "markdown",
   "metadata": {},
   "source": [
    "# Viewing Nonwall Bounce Trials"
   ]
  },
  {
   "cell_type": "code",
   "execution_count": 15,
   "metadata": {
    "execution": {
     "iopub.execute_input": "2025-03-20T19:13:43.545825Z",
     "iopub.status.busy": "2025-03-20T19:13:43.545623Z",
     "iopub.status.idle": "2025-03-20T19:13:43.552098Z",
     "shell.execute_reply": "2025-03-20T19:13:43.551587Z",
     "shell.execute_reply.started": "2025-03-20T19:13:43.545810Z"
    }
   },
   "outputs": [
    {
     "name": "stdout",
     "output_type": "stream",
     "text": [
      "idx_trial                                                              4\n",
      "trial                                                             Bounce\n",
      "idx_time                                                              -1\n",
      "side_left_right                                                        0\n",
      "side_top_bottom                                                        1\n",
      "idx_velocity_y                                                         1\n",
      "idx_x_position                                                         0\n",
      "idx_y_position                                                       NaN\n",
      "length                                                               216\n",
      "Final Color                                                          red\n",
      "Final X Position                                               125.11467\n",
      "Final Y Position                                               222.60667\n",
      "Final X Velocity                                                27.30667\n",
      "Final Y Velocity                                               -34.13333\n",
      "PCCNVC                                                           0.00575\n",
      "PCCOVC                                                           0.50000\n",
      "PVC                                                              0.00100\n",
      "length_ms                                                           6480\n",
      "idx_position                                                          -1\n",
      "bounce_x_y                                                           NaN\n",
      "idx_pos_y_bounce                                                     NaN\n",
      "last_visible_color                                                     2\n",
      "color_entered                                                          2\n",
      "color_next                                                             3\n",
      "color_after_next                                                       1\n",
      "correct_response                                                       1\n",
      "Dataset Block                                                          1\n",
      "Dataset Block Video                                                    1\n",
      "Bounces                                                                5\n",
      "Random Bounces                                                         0\n",
      "Color Change Bounce                                                    3\n",
      "Color Change Random                                                    1\n",
      "PCCNVC_effective                                                 0.00474\n",
      "PCCOVC_effective                                                 0.60000\n",
      "PVC_effective                                                    0.00000\n",
      "Hazard Rate                                                          Low\n",
      "Contingency                                                       Medium\n",
      "Path Videos            /home/apra/Work/Bouncing-Ball-Task/data/tmp/vi...\n",
      "Name: 6, dtype: object\n"
     ]
    },
    {
     "data": {
      "text/html": [
       "\n",
       "            <video width=\"400\" controls autoplay loop>\n",
       "                <source src=\"data:video/mp4;base64,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\" type=\"video/mp4\">\n",
       "                Your browser does not support the video tag.\n",
       "            </video>\n",
       "            "
      ],
      "text/plain": [
       "<IPython.core.display.HTML object>"
      ]
     },
     "metadata": {},
     "output_type": "display_data"
    }
   ],
   "source": [
    "def display_video_idx(df_data, idx):\n",
    "    video_data = df_data.iloc[idx]\n",
    "    print(video_data)\n",
    "    display_video(video_data[\"Path Videos\"])\n",
    "\n",
    "display_video_idx(df_data, -2)"
   ]
  },
  {
   "cell_type": "code",
   "execution_count": 16,
   "metadata": {
    "execution": {
     "iopub.execute_input": "2025-03-20T19:13:43.553058Z",
     "iopub.status.busy": "2025-03-20T19:13:43.552735Z",
     "iopub.status.idle": "2025-03-20T19:13:43.560968Z",
     "shell.execute_reply": "2025-03-20T19:13:43.560303Z",
     "shell.execute_reply.started": "2025-03-20T19:13:43.553042Z"
    }
   },
   "outputs": [],
   "source": [
    "def plot_effective_stats(df_data):\n",
    "    # Create the subplots\n",
    "    palette = visualize.get_color_palette(\n",
    "        [\"Low\", \"High\"],\n",
    "        ((\"Blues\", 1), (\"Reds\", 1)),\n",
    "        linspace_range=(0.75, 1),\n",
    "    )\n",
    "    palette_trial = visualize.get_color_palette(\n",
    "        [\"Straight\", \"Catch\", \"Bounce\"],\n",
    "        ((\"Blues\", 1), (\"Wistia\", 1), (\"Reds\", 1)),\n",
    "        linspace_range=(0.75, 1),\n",
    "    )\n",
    "    palette_contingency = visualize.get_color_palette(\n",
    "        [\"Low\", \"Medium\", \"High\"],\n",
    "        ((\"Blues\", 1), (\"Wistia\", 1), (\"Reds\", 1)),\n",
    "        linspace_range=(0.75, 1),\n",
    "    )\n",
    "    \n",
    "    plot_params = [\n",
    "        [\n",
    "            (\n",
    "                \"PCCNVC_effective\",\n",
    "                \"Observed Hazard Rates\",\n",
    "                \"Effective Hazard Rate Bins\",\n",
    "                {\n",
    "                    \"hue\": \"Hazard Rate\",\n",
    "                    \"legend\": False,\n",
    "                    \"palette\": palette,\n",
    "                }\n",
    "            ),\n",
    "            (\n",
    "                \"Color Change Random\",\n",
    "                \"Number of Random Color Changes\",\n",
    "                \"Random Color Change Bins\",\n",
    "                {\n",
    "                    \"hue\": \"Hazard Rate\",\n",
    "                    \"legend\": True,\n",
    "                    \"discrete\": True,\n",
    "                    \"palette\": palette,\n",
    "                }\n",
    "            ),\n",
    "            (\n",
    "                \"length\",\n",
    "                \"Distribution of Video Lengths\",\n",
    "                \"Video Length Bins\",\n",
    "                {\n",
    "                    \"hue\": \"trial\",\n",
    "                    \"legend\": True,\n",
    "                    \"palette\": palette_trial,\n",
    "                }\n",
    "            ),\n",
    "        ],\n",
    "        [\n",
    "            (\n",
    "                \"PCCOVC_effective\",\n",
    "                \"Observed Trial Contingency\",\n",
    "                \"Effective Contingency Bins\",\n",
    "                {\n",
    "                    \"hue\": \"Contingency\",\n",
    "                    \"palette\": palette_contingency,\n",
    "                    \"legend\": False,\n",
    "                },\n",
    "            ),\n",
    "            (\n",
    "                \"Color Change Bounce\",\n",
    "                \"Number of Bounce Color Changes\",\n",
    "                \"Bounce Color Changes\",\n",
    "                {\n",
    "                    \"discrete\": True,\n",
    "                    \"hue\": \"Contingency\",\n",
    "                    \"palette\": palette_contingency,\n",
    "                    \"legend\": True,\n",
    "                }\n",
    "            ),\n",
    "            (\n",
    "                \"Bounces\",\n",
    "                \"Number of Bounces\",\n",
    "                \"Number of Bounces\",\n",
    "                {\n",
    "                    \"discrete\": True,\n",
    "                    \"hue\": \"trial\",\n",
    "                    \"palette\": palette_trial,\n",
    "                    \"legend\": True,\n",
    "                }\n",
    "            ),\n",
    "        ],\n",
    "    ]\n",
    "    \n",
    "    rows = 2\n",
    "    fig, axes = plt.subplots(\n",
    "        rows,\n",
    "        len(plot_params[0]),\n",
    "        figsize=(len(plot_params[0])*4, rows*4),\n",
    "    )\n",
    "    \n",
    "    for i, row_plots in enumerate(plot_params):\n",
    "        for j, (col, title, xlabel, plot_dict) in enumerate(row_plots):\n",
    "            ax = axes[i, j]\n",
    "            sns.histplot(\n",
    "                df_data,\n",
    "                x=col,\n",
    "                ax=ax,\n",
    "                **plot_dict,\n",
    "            )\n",
    "            ax.set_title(title)\n",
    "            ax.set_xlabel(xlabel)\n",
    "            if j != 0:\n",
    "                ax.set_ylabel(None)\n",
    "    \n",
    "    plt.suptitle(f\"Task Statstics for {batch_size} Videos\")\n",
    "    plt.tight_layout()\n",
    "    plt.show()"
   ]
  },
  {
   "cell_type": "code",
   "execution_count": 17,
   "metadata": {
    "execution": {
     "iopub.execute_input": "2025-03-20T19:13:43.561677Z",
     "iopub.status.busy": "2025-03-20T19:13:43.561498Z",
     "iopub.status.idle": "2025-03-20T19:13:44.359133Z",
     "shell.execute_reply": "2025-03-20T19:13:44.358339Z",
     "shell.execute_reply.started": "2025-03-20T19:13:43.561661Z"
    }
   },
   "outputs": [
    {
     "ename": "ValueError",
     "evalue": "The palette dictionary is missing keys: {'Nonwall'}",
     "output_type": "error",
     "traceback": [
      "\u001b[0;31m---------------------------------------------------------------------------\u001b[0m",
      "\u001b[0;31mValueError\u001b[0m                                Traceback (most recent call last)",
      "Cell \u001b[0;32mIn[17], line 1\u001b[0m\n\u001b[0;32m----> 1\u001b[0m \u001b[43mplot_effective_stats\u001b[49m\u001b[43m(\u001b[49m\u001b[43mdf_data\u001b[49m\u001b[43m)\u001b[49m\n",
      "Cell \u001b[0;32mIn[16], line 99\u001b[0m, in \u001b[0;36mplot_effective_stats\u001b[0;34m(df_data)\u001b[0m\n\u001b[1;32m     97\u001b[0m \u001b[38;5;28;01mfor\u001b[39;00m j, (col, title, xlabel, plot_dict) \u001b[38;5;129;01min\u001b[39;00m \u001b[38;5;28menumerate\u001b[39m(row_plots):\n\u001b[1;32m     98\u001b[0m     ax \u001b[38;5;241m=\u001b[39m axes[i, j]\n\u001b[0;32m---> 99\u001b[0m     \u001b[43msns\u001b[49m\u001b[38;5;241;43m.\u001b[39;49m\u001b[43mhistplot\u001b[49m\u001b[43m(\u001b[49m\n\u001b[1;32m    100\u001b[0m \u001b[43m        \u001b[49m\u001b[43mdf_data\u001b[49m\u001b[43m,\u001b[49m\n\u001b[1;32m    101\u001b[0m \u001b[43m        \u001b[49m\u001b[43mx\u001b[49m\u001b[38;5;241;43m=\u001b[39;49m\u001b[43mcol\u001b[49m\u001b[43m,\u001b[49m\n\u001b[1;32m    102\u001b[0m \u001b[43m        \u001b[49m\u001b[43max\u001b[49m\u001b[38;5;241;43m=\u001b[39;49m\u001b[43max\u001b[49m\u001b[43m,\u001b[49m\n\u001b[1;32m    103\u001b[0m \u001b[43m        \u001b[49m\u001b[38;5;241;43m*\u001b[39;49m\u001b[38;5;241;43m*\u001b[39;49m\u001b[43mplot_dict\u001b[49m\u001b[43m,\u001b[49m\n\u001b[1;32m    104\u001b[0m \u001b[43m    \u001b[49m\u001b[43m)\u001b[49m\n\u001b[1;32m    105\u001b[0m     ax\u001b[38;5;241m.\u001b[39mset_title(title)\n\u001b[1;32m    106\u001b[0m     ax\u001b[38;5;241m.\u001b[39mset_xlabel(xlabel)\n",
      "File \u001b[0;32m~/miniconda3/envs/bbt/lib/python3.13/site-packages/seaborn/distributions.py:1384\u001b[0m, in \u001b[0;36mhistplot\u001b[0;34m(data, x, y, hue, weights, stat, bins, binwidth, binrange, discrete, cumulative, common_bins, common_norm, multiple, element, fill, shrink, kde, kde_kws, line_kws, thresh, pthresh, pmax, cbar, cbar_ax, cbar_kws, palette, hue_order, hue_norm, color, log_scale, legend, ax, **kwargs)\u001b[0m\n\u001b[1;32m   1358\u001b[0m \u001b[38;5;28;01mdef\u001b[39;00m\u001b[38;5;250m \u001b[39m\u001b[38;5;21mhistplot\u001b[39m(\n\u001b[1;32m   1359\u001b[0m     data\u001b[38;5;241m=\u001b[39m\u001b[38;5;28;01mNone\u001b[39;00m, \u001b[38;5;241m*\u001b[39m,\n\u001b[1;32m   1360\u001b[0m     \u001b[38;5;66;03m# Vector variables\u001b[39;00m\n\u001b[0;32m   (...)\u001b[0m\n\u001b[1;32m   1376\u001b[0m     \u001b[38;5;241m*\u001b[39m\u001b[38;5;241m*\u001b[39mkwargs,\n\u001b[1;32m   1377\u001b[0m ):\n\u001b[1;32m   1379\u001b[0m     p \u001b[38;5;241m=\u001b[39m _DistributionPlotter(\n\u001b[1;32m   1380\u001b[0m         data\u001b[38;5;241m=\u001b[39mdata,\n\u001b[1;32m   1381\u001b[0m         variables\u001b[38;5;241m=\u001b[39m\u001b[38;5;28mdict\u001b[39m(x\u001b[38;5;241m=\u001b[39mx, y\u001b[38;5;241m=\u001b[39my, hue\u001b[38;5;241m=\u001b[39mhue, weights\u001b[38;5;241m=\u001b[39mweights),\n\u001b[1;32m   1382\u001b[0m     )\n\u001b[0;32m-> 1384\u001b[0m     \u001b[43mp\u001b[49m\u001b[38;5;241;43m.\u001b[39;49m\u001b[43mmap_hue\u001b[49m\u001b[43m(\u001b[49m\u001b[43mpalette\u001b[49m\u001b[38;5;241;43m=\u001b[39;49m\u001b[43mpalette\u001b[49m\u001b[43m,\u001b[49m\u001b[43m \u001b[49m\u001b[43morder\u001b[49m\u001b[38;5;241;43m=\u001b[39;49m\u001b[43mhue_order\u001b[49m\u001b[43m,\u001b[49m\u001b[43m \u001b[49m\u001b[43mnorm\u001b[49m\u001b[38;5;241;43m=\u001b[39;49m\u001b[43mhue_norm\u001b[49m\u001b[43m)\u001b[49m\n\u001b[1;32m   1386\u001b[0m     \u001b[38;5;28;01mif\u001b[39;00m ax \u001b[38;5;129;01mis\u001b[39;00m \u001b[38;5;28;01mNone\u001b[39;00m:\n\u001b[1;32m   1387\u001b[0m         ax \u001b[38;5;241m=\u001b[39m plt\u001b[38;5;241m.\u001b[39mgca()\n",
      "File \u001b[0;32m~/miniconda3/envs/bbt/lib/python3.13/site-packages/seaborn/_base.py:838\u001b[0m, in \u001b[0;36mVectorPlotter.map_hue\u001b[0;34m(self, palette, order, norm, saturation)\u001b[0m\n\u001b[1;32m    837\u001b[0m \u001b[38;5;28;01mdef\u001b[39;00m\u001b[38;5;250m \u001b[39m\u001b[38;5;21mmap_hue\u001b[39m(\u001b[38;5;28mself\u001b[39m, palette\u001b[38;5;241m=\u001b[39m\u001b[38;5;28;01mNone\u001b[39;00m, order\u001b[38;5;241m=\u001b[39m\u001b[38;5;28;01mNone\u001b[39;00m, norm\u001b[38;5;241m=\u001b[39m\u001b[38;5;28;01mNone\u001b[39;00m, saturation\u001b[38;5;241m=\u001b[39m\u001b[38;5;241m1\u001b[39m):\n\u001b[0;32m--> 838\u001b[0m     mapping \u001b[38;5;241m=\u001b[39m \u001b[43mHueMapping\u001b[49m\u001b[43m(\u001b[49m\u001b[38;5;28;43mself\u001b[39;49m\u001b[43m,\u001b[49m\u001b[43m \u001b[49m\u001b[43mpalette\u001b[49m\u001b[43m,\u001b[49m\u001b[43m \u001b[49m\u001b[43morder\u001b[49m\u001b[43m,\u001b[49m\u001b[43m \u001b[49m\u001b[43mnorm\u001b[49m\u001b[43m,\u001b[49m\u001b[43m \u001b[49m\u001b[43msaturation\u001b[49m\u001b[43m)\u001b[49m\n\u001b[1;32m    839\u001b[0m     \u001b[38;5;28mself\u001b[39m\u001b[38;5;241m.\u001b[39m_hue_map \u001b[38;5;241m=\u001b[39m mapping\n",
      "File \u001b[0;32m~/miniconda3/envs/bbt/lib/python3.13/site-packages/seaborn/_base.py:150\u001b[0m, in \u001b[0;36mHueMapping.__init__\u001b[0;34m(self, plotter, palette, order, norm, saturation)\u001b[0m\n\u001b[1;32m    147\u001b[0m \u001b[38;5;28;01melif\u001b[39;00m map_type \u001b[38;5;241m==\u001b[39m \u001b[38;5;124m\"\u001b[39m\u001b[38;5;124mcategorical\u001b[39m\u001b[38;5;124m\"\u001b[39m:\n\u001b[1;32m    149\u001b[0m     cmap \u001b[38;5;241m=\u001b[39m norm \u001b[38;5;241m=\u001b[39m \u001b[38;5;28;01mNone\u001b[39;00m\n\u001b[0;32m--> 150\u001b[0m     levels, lookup_table \u001b[38;5;241m=\u001b[39m \u001b[38;5;28;43mself\u001b[39;49m\u001b[38;5;241;43m.\u001b[39;49m\u001b[43mcategorical_mapping\u001b[49m\u001b[43m(\u001b[49m\n\u001b[1;32m    151\u001b[0m \u001b[43m        \u001b[49m\u001b[43mdata\u001b[49m\u001b[43m,\u001b[49m\u001b[43m \u001b[49m\u001b[43mpalette\u001b[49m\u001b[43m,\u001b[49m\u001b[43m \u001b[49m\u001b[43morder\u001b[49m\u001b[43m,\u001b[49m\n\u001b[1;32m    152\u001b[0m \u001b[43m    \u001b[49m\u001b[43m)\u001b[49m\n\u001b[1;32m    154\u001b[0m \u001b[38;5;66;03m# --- Option 3: datetime mapping\u001b[39;00m\n\u001b[1;32m    155\u001b[0m \n\u001b[1;32m    156\u001b[0m \u001b[38;5;28;01melse\u001b[39;00m:\n\u001b[1;32m    157\u001b[0m     \u001b[38;5;66;03m# TODO this needs actual implementation\u001b[39;00m\n\u001b[1;32m    158\u001b[0m     cmap \u001b[38;5;241m=\u001b[39m norm \u001b[38;5;241m=\u001b[39m \u001b[38;5;28;01mNone\u001b[39;00m\n",
      "File \u001b[0;32m~/miniconda3/envs/bbt/lib/python3.13/site-packages/seaborn/_base.py:234\u001b[0m, in \u001b[0;36mHueMapping.categorical_mapping\u001b[0;34m(self, data, palette, order)\u001b[0m\n\u001b[1;32m    232\u001b[0m     \u001b[38;5;28;01mif\u001b[39;00m \u001b[38;5;28many\u001b[39m(missing):\n\u001b[1;32m    233\u001b[0m         err \u001b[38;5;241m=\u001b[39m \u001b[38;5;124m\"\u001b[39m\u001b[38;5;124mThe palette dictionary is missing keys: \u001b[39m\u001b[38;5;132;01m{}\u001b[39;00m\u001b[38;5;124m\"\u001b[39m\n\u001b[0;32m--> 234\u001b[0m         \u001b[38;5;28;01mraise\u001b[39;00m \u001b[38;5;167;01mValueError\u001b[39;00m(err\u001b[38;5;241m.\u001b[39mformat(missing))\n\u001b[1;32m    236\u001b[0m     lookup_table \u001b[38;5;241m=\u001b[39m palette\n\u001b[1;32m    238\u001b[0m \u001b[38;5;28;01melse\u001b[39;00m:\n",
      "\u001b[0;31mValueError\u001b[0m: The palette dictionary is missing keys: {'Nonwall'}"
     ]
    },
    {
     "data": {
      "image/png": "[encoded data removed]",
      "text/plain": [
       "<Figure size 1200x800 with 6 Axes>"
      ]
     },
     "metadata": {},
     "output_type": "display_data"
    }
   ],
   "source": [
    "plot_effective_stats(df_data)"
   ]
  }
 ],
 "metadata": {
  "anaconda-cloud": {},
  "kernelspec": {
   "display_name": "Python 3 (ipykernel)",
   "language": "python",
   "name": "python3"
  },
  "language_info": {
   "codemirror_mode": {
    "name": "ipython",
    "version": 3
   },
   "file_extension": ".py",
   "mimetype": "text/x-python",
   "name": "python",
   "nbconvert_exporter": "python",
   "pygments_lexer": "ipython3",
   "version": "3.13.1"
  },
  "widgets": {
   "application/vnd.jupyter.widget-state+json": {
    "state": {},
    "version_major": 2,
    "version_minor": 0
   }
  }
 },
 "nbformat": 4,
 "nbformat_minor": 4
}
