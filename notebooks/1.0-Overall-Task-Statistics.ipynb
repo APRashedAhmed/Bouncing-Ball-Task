{
 "cells": [
  {
   "cell_type": "markdown",
   "metadata": {},
   "source": [
    "# 1.0 Overall Task Statistics"
   ]
  },
  {
   "cell_type": "code",
   "execution_count": null,
   "metadata": {},
   "outputs": [],
   "source": []
  },
  {
   "cell_type": "markdown",
   "metadata": {},
   "source": [
    "# Initial Setup"
   ]
  },
  {
   "cell_type": "markdown",
   "metadata": {},
   "source": [
    "## Jupyter Extensions"
   ]
  },
  {
   "cell_type": "markdown",
   "metadata": {},
   "source": [
    "Load [watermark](https://github.com/rasbt/watermark) to see the state of the machine and environment that's running the notebook. To make sense of the options, take a look at the [usage](https://github.com/rasbt/watermark#usage) section of the readme."
   ]
  },
  {
   "cell_type": "code",
   "execution_count": 1,
   "metadata": {},
   "outputs": [],
   "source": [
    "# Load `watermark` extension\n",
    "%load_ext watermark"
   ]
  },
  {
   "cell_type": "code",
   "execution_count": 2,
   "metadata": {},
   "outputs": [
    {
     "name": "stdout",
     "output_type": "stream",
     "text": [
      "Compiler    : GCC 13.3.0\n",
      "OS          : Linux\n",
      "Release     : 5.15.0-122-generic\n",
      "Machine     : x86_64\n",
      "Processor   : x86_64\n",
      "CPU cores   : 8\n",
      "Architecture: 64bit\n",
      "\n",
      "Hostname: apra-xps13\n",
      "\n",
      "Git hash: 55171b97ccaaffd4b5bdbd94aa6c6d395dd3e1f4\n",
      "\n",
      "Git branch: master\n",
      "\n"
     ]
    }
   ],
   "source": [
    "# Display the status of the machine and other non-code related info\n",
    "%watermark -m -g -b -h"
   ]
  },
  {
   "cell_type": "markdown",
   "metadata": {},
   "source": [
    "Load [autoreload](https://ipython.org/ipython-doc/3/config/extensions/autoreload.html) which will always reload modules marked with `%aimport`.\n",
    "\n",
    "This behavior can be inverted by running `autoreload 2` which will set everything to be auto-reloaded *except* for modules marked with `%aimport`."
   ]
  },
  {
   "cell_type": "code",
   "execution_count": 3,
   "metadata": {},
   "outputs": [],
   "source": [
    "# Load `autoreload` extension\n",
    "%load_ext autoreload"
   ]
  },
  {
   "cell_type": "code",
   "execution_count": 4,
   "metadata": {},
   "outputs": [],
   "source": [
    "# Set autoreload behavior\n",
    "%autoreload 1"
   ]
  },
  {
   "cell_type": "markdown",
   "metadata": {},
   "source": [
    "Load `matplotlib` in one of the more `jupyter`-friendly [rich-output modes](https://ipython.readthedocs.io/en/stable/interactive/plotting.html). Some options (that may or may not have worked) are `inline`, `notebook`, and `gtk`."
   ]
  },
  {
   "cell_type": "code",
   "execution_count": 5,
   "metadata": {},
   "outputs": [],
   "source": [
    "# Set the matplotlib mode\n",
    "%matplotlib inline"
   ]
  },
  {
   "cell_type": "markdown",
   "metadata": {},
   "source": [
    "## Imports"
   ]
  },
  {
   "cell_type": "code",
   "execution_count": 55,
   "metadata": {},
   "outputs": [
    {
     "name": "stdout",
     "output_type": "stream",
     "text": [
      "Python implementation: CPython\n",
      "Python version       : 3.12.7\n",
      "IPython version      : 8.28.0\n",
      "\n",
      "pandas            : 2.2.3\n",
      "seaborn           : 0.13.2\n",
      "matplotlib        : 3.9.2\n",
      "bouncing_ball_task: 0.0.0\n",
      "numpy             : 2.1.2\n",
      "\n"
     ]
    }
   ],
   "source": [
    "# Standard library imports\n",
    "from pathlib import Path\n",
    "\n",
    "# Third party\n",
    "import numpy as np\n",
    "import pandas as pd\n",
    "import seaborn as sns\n",
    "import matplotlib.pyplot as plt\n",
    "from loguru import logger\n",
    "\n",
    "%aimport bouncing_ball_task.bouncing_ball\n",
    "%aimport bouncing_ball_task.human_bouncing_ball\n",
    "%aimport bouncing_ball_task.utils.pyutils\n",
    "%aimport bouncing_ball_task.utils.visualize\n",
    "from bouncing_ball_task.utils import pyutils, visualize \n",
    "from bouncing_ball_task import human_bouncing_ball as hbb\n",
    "from bouncing_ball_task import index\n",
    "\n",
    "# Display  versions of everything\n",
    "%watermark -v -iv"
   ]
  },
  {
   "cell_type": "code",
   "execution_count": 7,
   "metadata": {},
   "outputs": [],
   "source": [
    "# Suppress sci notation\n",
    "np.set_printoptions(suppress=True)\n",
    "pd.set_option('display.float_format', lambda x: '%.5f' % x)"
   ]
  },
  {
   "cell_type": "markdown",
   "metadata": {},
   "source": [
    "# Loading Task Instance"
   ]
  },
  {
   "cell_type": "code",
   "execution_count": 273,
   "metadata": {},
   "outputs": [],
   "source": [
    "# Task Parameters\n",
    "human_video_parameters = {\n",
    "    \"size_frame\": (size_frame := (256, 256)),\n",
    "    \"ball_radius\": (ball_radius := 10),\n",
    "    \"dt\": (dt := 0.1),\n",
    "    \"total_videos\": (batch_size := 1000),\n",
    "    \"mask_center\": (mask_center := 0.5),\n",
    "    \"mask_fraction\": (mask_fraction := 1 / 3),\n",
    "    \"velocity_lower\": (velocity_lower := 1 / 12.5),\n",
    "    \"velocity_upper\": (velocity_upper := 1 / 7.5),\n",
    "    \"num_y_velocities\": (num_y_velocities := 2),\n",
    "    \"pccnvc_lower\": (pccnvc_lower := 0.01),\n",
    "    \"pccnvc_upper\": (pccnvc_upper := 0.075),\n",
    "    \"pccovc_lower\": (pccovc_lower := 0.05),\n",
    "    \"pccovc_upper\": (pccovc_upper := 0.95),\n",
    "    \"num_pccnvc\": (num_pccnvc := 2),\n",
    "    \"num_pccovc\": (num_pccovc := 3),\n",
    "    \"pvc\" : (probability_velocity_change := 0.0),\n",
    "    \"num_pos_endpoints\": (num_pos_endpoints := 5),\n",
    "    \"p_catch_trials\": (p_catch_trials := 0.05),\n",
    "    \"bounce_offset\": (bounce_offset := 2/5),\n",
    "    \"border_tolerance_outer\": (border_tolerance_outer := 2.0),\n",
    "    \"border_tolerance_inner\": (border_tolerance_inner := 1.0),\n",
    "    \"bounce_straight_split\": (bounce_straight_split := 0.5),\n",
    "    \"use_logger\": False,\n",
    "    \"print_stats\": True,\n",
    "}\n",
    "\n",
    "task_parameters = {\n",
    "    \"size_frame\": size_frame,\n",
    "    \"ball_radius\": ball_radius,\n",
    "    \"target_future_timestep\": (target_future_timestep := 1),\n",
    "    \"dt\": dt,\n",
    "    \"sample_mode\": (sample_mode := \"parameter_array\"),\n",
    "    \"target_mode\": (target_mode := \"parameter_array\"),\n",
    "    \"mask_center\": mask_center,\n",
    "    \"mask_fraction\": mask_fraction,\n",
    "    \"mask_color\": (mask_color := [127, 127, 127]),\n",
    "    \"sequence_mode\": (sequence_mode := \"reverse\"),\n",
    "    \"debug\": (debug := True),\n",
    "    \"sample_velocity_discretely\": (sample_velocity_discretely := True),\n",
    "    \"return_change\": (return_change := True),\n",
    "    \"return_change_mode\": (return_change_mode := \"source\"),\n",
    "    \"min_t_color_change\": (min_t_color_change := 12),\n",
    "    \"color_mask_mode\": (color_mask_mode := \"fade\"),\n",
    "    \"initial_timestep_is_changepoint\": (initial_timestep_is_changepoint := False),\n",
    "}\n",
    "\n",
    "size_x, size_y = size_frame"
   ]
  },
  {
   "cell_type": "code",
   "execution_count": 285,
   "metadata": {},
   "outputs": [
    {
     "name": "stdout",
     "output_type": "stream",
     "text": [
      "Dataset Generation Summary\n",
      "  Num Total Trials: 1000 (149 min 7.5 sec)\n",
      "    length_trials_ms:       8947485\n",
      "    video_length_min_ms:    8010\n",
      "    video_length_max_ms:    15075\n",
      "    video_length_min_f:     178\n",
      "    video_length_max_f:     335\n",
      "    ball_radius:            10\n",
      "    dt:                     0.1\n",
      "    duration:               45\n",
      "    exp_scale:              1.0\n",
      "    border_tolerance_outer: 2.0\n",
      "    mask_center:            0.5\n",
      "    mask_fraction:          0.3333333333333333\n",
      "    size_x:                 256\n",
      "    size_y:                 256\n",
      "    num_pos_endpoints:      5\n",
      "    pvc:                    0.0\n",
      "    num_y_velocities:       2\n",
      "    bounce_offset:          0.4\n",
      "  Num Catch Trials: 50 (6 min 40.5 sec)\n",
      "    Min Video Length (s):  8.0\n",
      "    Max Video Length (s):  8.0\n",
      "    Color Splits:          [np.float64(0.34), np.float64(0.34), np.float64(0.32)]\n",
      "    pccnvc Splits:         [np.float64(0.5), np.float64(0.5)]\n",
      "    pccovc Splits:         [np.float64(0.34), np.float64(0.34), np.float64(0.32)]\n",
      "    Stat Comb Splits:      [np.float64(0.18), np.float64(0.2), np.float64(0.12), np.float64(0.16), np.float64(0.14), np.float64(0.2)]\n",
      "  Num Straight Trials: 475 (71 min 19.5 sec)\n",
      "    Min Video Length (s):  8.0\n",
      "    Max Video Length (s):  13.9\n",
      "    Color Splits:          [np.float64(0.33), np.float64(0.33), np.float64(0.33)]\n",
      "    pccnvc Splits:         [np.float64(0.5), np.float64(0.5)]\n",
      "    pccovc Splits:         [np.float64(0.33), np.float64(0.33), np.float64(0.33)]\n",
      "    Stat Comb Splits:      [np.float64(0.17), np.float64(0.17), np.float64(0.16), np.float64(0.17), np.float64(0.17), np.float64(0.17)]\n",
      "    End time Splits:       [np.float64(0.2), np.float64(0.2), np.float64(0.2), np.float64(0.2), np.float64(0.2)]\n",
      "    Left/Right Splits:     [np.float64(0.5), np.float64(0.5)]\n",
      "    Top/Bottom Splits:     [np.float64(0.5), np.float64(0.5)]\n",
      "    Velocity Splits:       [np.float64(0.5), np.float64(0.5)]\n"
     ]
    },
    {
     "name": "stderr",
     "output_type": "stream",
     "text": [
      "\u001b[32m2024-10-09 02:04:21.954\u001b[0m | \u001b[34m\u001b[1mDEBUG   \u001b[0m | \u001b[36mbouncing_ball_task.bouncing_ball\u001b[0m:\u001b[36mcolor_mask_mode\u001b[0m:\u001b[36m464\u001b[0m - \u001b[34m\u001b[1mRunning color_mask_mode setter\u001b[0m\n",
      "\u001b[32m2024-10-09 02:04:21.961\u001b[0m | \u001b[34m\u001b[1mDEBUG   \u001b[0m | \u001b[36mbouncing_ball_task.bouncing_ball\u001b[0m:\u001b[36msequence_mode\u001b[0m:\u001b[36m419\u001b[0m - \u001b[34m\u001b[1mRunning sequence_mode setter\u001b[0m\n",
      "\u001b[32m2024-10-09 02:04:21.968\u001b[0m | \u001b[34m\u001b[1mDEBUG   \u001b[0m | \u001b[36mbouncing_ball_task.bouncing_ball\u001b[0m:\u001b[36mresample_change_probabilities\u001b[0m:\u001b[36m490\u001b[0m - \u001b[34m\u001b[1mRunning resample_change_probabilities\u001b[0m\n",
      "\u001b[32m2024-10-09 02:04:21.993\u001b[0m | \u001b[34m\u001b[1mDEBUG   \u001b[0m | \u001b[36mbouncing_ball_task.bouncing_ball\u001b[0m:\u001b[36mcolor_sampling\u001b[0m:\u001b[36m396\u001b[0m - \u001b[34m\u001b[1mRunning color_sampling setter\u001b[0m\n",
      "\u001b[32m2024-10-09 02:04:22.018\u001b[0m | \u001b[34m\u001b[1mDEBUG   \u001b[0m | \u001b[36mbouncing_ball_task.bouncing_ball\u001b[0m:\u001b[36mreturn_change_mode\u001b[0m:\u001b[36m450\u001b[0m - \u001b[34m\u001b[1mRunning return_change_mode setter\u001b[0m\n"
     ]
    },
    {
     "name": "stdout",
     "output_type": "stream",
     "text": [
      "  Num Bounce Trials: 475 (71 min 7.5 sec)\n",
      "    Min Video Length (s):          8.0\n",
      "    Max Video Length (s):          15.1\n",
      "    Color Splits:                  [np.float64(0.33), np.float64(0.33), np.float64(0.33)]\n",
      "    pccnvc Splits:                 [np.float64(0.5), np.float64(0.5)]\n",
      "    pccovc Splits:                 [np.float64(0.33), np.float64(0.33), np.float64(0.33)]\n",
      "    Stat Comb Splits:              [np.float64(0.17), np.float64(0.17), np.float64(0.17), np.float64(0.17), np.float64(0.17), np.float64(0.17)]\n",
      "    End time Splits:               [np.float64(0.2), np.float64(0.2), np.float64(0.2), np.float64(0.2), np.float64(0.2)]\n",
      "    Left/Right Splits:             [np.float64(0.5), np.float64(0.5)]\n",
      "    Top/Bottom Splits:             [np.float64(0.5), np.float64(0.5)]\n",
      "    Velocity Splits:               [np.float64(0.5), np.float64(0.5)]\n",
      "    Final y position splits        [np.float64(0.46), np.float64(0.26), np.float64(0.16), np.float64(0.09), np.float64(0.04)]\n",
      "    x=0 - Final y position splits  [np.float64(1.0)]\n",
      "    x=1 - Final y position splits  [np.float64(0.51), np.float64(0.49)]\n",
      "    x=2 - Final y position splits  [np.float64(0.34), np.float64(0.34), np.float64(0.33)]\n",
      "    x=3 - Final y position splits  [np.float64(0.25), np.float64(0.25), np.float64(0.25), np.float64(0.24)]\n",
      "    x=4 - Final y position splits  [np.float64(0.2), np.float64(0.2), np.float64(0.2), np.float64(0.2), np.float64(0.2)]\n"
     ]
    }
   ],
   "source": [
    "task, list_samples, list_targets, df_data, dict_metadata = hbb.generate_video_dataset(\n",
    "    human_video_parameters,\n",
    "    task_parameters,\n",
    "    shuffle=False,\n",
    ")\n",
    "samples = task.samples\n",
    "targets = task.targets"
   ]
  },
  {
   "cell_type": "code",
   "execution_count": 286,
   "metadata": {},
   "outputs": [
    {
     "data": {
      "text/plain": [
       "Index(['idx_trial', 'trial', 'idx_time', 'side_left_right', 'side_top_bottom',\n",
       "       'idx_velocity_y', 'idx_x_position', 'idx_y_position', 'length',\n",
       "       'Final Color', 'Final X Position', 'Final Y Position',\n",
       "       'Final X Velocity', 'Final Y Velocity', 'PCCNVC', 'PCCOVC', 'PVC',\n",
       "       'idx_position', 'last_visible_color', 'color_entered', 'color_next',\n",
       "       'color_after_next', 'correct_response', 'PCCNVC_effective',\n",
       "       'PCCOVC_effective', 'PVC_effective', 'Bounces', 'Random Bounces',\n",
       "       'Color Change Bounce', 'Color Change Random', 'Hazard Rate',\n",
       "       'Contingency'],\n",
       "      dtype='object')"
      ]
     },
     "execution_count": 286,
     "metadata": {},
     "output_type": "execute_result"
    }
   ],
   "source": [
    "df_data.columns"
   ]
  },
  {
   "cell_type": "code",
   "execution_count": 287,
   "metadata": {},
   "outputs": [
    {
     "name": "stdout",
     "output_type": "stream",
     "text": [
      "<class 'pandas.core.frame.DataFrame'>\n",
      "RangeIndex: 1000 entries, 0 to 999\n",
      "Data columns (total 32 columns):\n",
      " #   Column               Non-Null Count  Dtype  \n",
      "---  ------               --------------  -----  \n",
      " 0   idx_trial            1000 non-null   int64  \n",
      " 1   trial                1000 non-null   object \n",
      " 2   idx_time             1000 non-null   int64  \n",
      " 3   side_left_right      1000 non-null   int64  \n",
      " 4   side_top_bottom      1000 non-null   int64  \n",
      " 5   idx_velocity_y       1000 non-null   int64  \n",
      " 6   idx_x_position       1000 non-null   int64  \n",
      " 7   idx_y_position       1000 non-null   int64  \n",
      " 8   length               1000 non-null   int64  \n",
      " 9   Final Color          1000 non-null   object \n",
      " 10  Final X Position     1000 non-null   float32\n",
      " 11  Final Y Position     1000 non-null   float32\n",
      " 12  Final X Velocity     1000 non-null   float64\n",
      " 13  Final Y Velocity     1000 non-null   float64\n",
      " 14  PCCNVC               1000 non-null   float64\n",
      " 15  PCCOVC               1000 non-null   float64\n",
      " 16  PVC                  1000 non-null   float64\n",
      " 17  idx_position         1000 non-null   int64  \n",
      " 18  last_visible_color   1000 non-null   int64  \n",
      " 19  color_entered        1000 non-null   int64  \n",
      " 20  color_next           1000 non-null   int64  \n",
      " 21  color_after_next     1000 non-null   int64  \n",
      " 22  correct_response     1000 non-null   int64  \n",
      " 23  PCCNVC_effective     1000 non-null   float64\n",
      " 24  PCCOVC_effective     1000 non-null   float32\n",
      " 25  PVC_effective        1000 non-null   float64\n",
      " 26  Bounces              1000 non-null   int64  \n",
      " 27  Random Bounces       1000 non-null   int64  \n",
      " 28  Color Change Bounce  1000 non-null   int64  \n",
      " 29  Color Change Random  1000 non-null   int64  \n",
      " 30  Hazard Rate          1000 non-null   object \n",
      " 31  Contingency          1000 non-null   object \n",
      "dtypes: float32(3), float64(7), int64(18), object(4)\n",
      "memory usage: 238.4+ KB\n"
     ]
    }
   ],
   "source": [
    "df_data.info()"
   ]
  },
  {
   "cell_type": "markdown",
   "metadata": {},
   "source": [
    "# Removing Transitioning Color Changes"
   ]
  },
  {
   "cell_type": "code",
   "execution_count": 288,
   "metadata": {},
   "outputs": [],
   "source": [
    "valid_colors = np.array(\n",
    "    [\n",
    "        [255.0, 0.0, 0.0],\n",
    "        [0.0, 255.0, 0.0],\n",
    "        [0.0, 0.0, 255.0],\n",
    "        [127.0, 127.0, 127.0],\n",
    "    ]\n",
    ")\n",
    "timesteps = samples.shape[1]\n",
    "t_cc = 50\n",
    "\n",
    "excluded_change_indices = []\n",
    "for i, sample in enumerate(samples):\n",
    "    for t in range(timesteps - t_cc, timesteps):\n",
    "        if np.any(targets[i, t-2, -2:] == 1) and not np.any(\n",
    "            np.all(\n",
    "                valid_colors == sample[t, 2:5],\n",
    "                axis=1,\n",
    "            )\n",
    "        ):\n",
    "            excluded_change_indices.append(i)\n",
    "            break"
   ]
  },
  {
   "cell_type": "code",
   "execution_count": 289,
   "metadata": {},
   "outputs": [
    {
     "data": {
      "text/plain": [
       "1"
      ]
     },
     "execution_count": 289,
     "metadata": {},
     "output_type": "execute_result"
    }
   ],
   "source": [
    "len(excluded_change_indices)"
   ]
  },
  {
   "cell_type": "code",
   "execution_count": 290,
   "metadata": {},
   "outputs": [
    {
     "data": {
      "text/html": [
       "<div>\n",
       "<style scoped>\n",
       "    .dataframe tbody tr th:only-of-type {\n",
       "        vertical-align: middle;\n",
       "    }\n",
       "\n",
       "    .dataframe tbody tr th {\n",
       "        vertical-align: top;\n",
       "    }\n",
       "\n",
       "    .dataframe thead th {\n",
       "        text-align: right;\n",
       "    }\n",
       "</style>\n",
       "<table border=\"1\" class=\"dataframe\">\n",
       "  <thead>\n",
       "    <tr style=\"text-align: right;\">\n",
       "      <th></th>\n",
       "      <th>idx_trial</th>\n",
       "      <th>trial</th>\n",
       "      <th>idx_time</th>\n",
       "      <th>side_left_right</th>\n",
       "      <th>side_top_bottom</th>\n",
       "      <th>idx_velocity_y</th>\n",
       "      <th>idx_x_position</th>\n",
       "      <th>idx_y_position</th>\n",
       "      <th>length</th>\n",
       "      <th>Final Color</th>\n",
       "      <th>...</th>\n",
       "      <th>correct_response</th>\n",
       "      <th>PCCNVC_effective</th>\n",
       "      <th>PCCOVC_effective</th>\n",
       "      <th>PVC_effective</th>\n",
       "      <th>Bounces</th>\n",
       "      <th>Random Bounces</th>\n",
       "      <th>Color Change Bounce</th>\n",
       "      <th>Color Change Random</th>\n",
       "      <th>Hazard Rate</th>\n",
       "      <th>Contingency</th>\n",
       "    </tr>\n",
       "    <tr>\n",
       "      <th>Video ID</th>\n",
       "      <th></th>\n",
       "      <th></th>\n",
       "      <th></th>\n",
       "      <th></th>\n",
       "      <th></th>\n",
       "      <th></th>\n",
       "      <th></th>\n",
       "      <th></th>\n",
       "      <th></th>\n",
       "      <th></th>\n",
       "      <th></th>\n",
       "      <th></th>\n",
       "      <th></th>\n",
       "      <th></th>\n",
       "      <th></th>\n",
       "      <th></th>\n",
       "      <th></th>\n",
       "      <th></th>\n",
       "      <th></th>\n",
       "      <th></th>\n",
       "      <th></th>\n",
       "    </tr>\n",
       "  </thead>\n",
       "  <tbody>\n",
       "    <tr>\n",
       "      <th>2</th>\n",
       "      <td>2</td>\n",
       "      <td>Catch</td>\n",
       "      <td>-1</td>\n",
       "      <td>-1</td>\n",
       "      <td>-1</td>\n",
       "      <td>-1</td>\n",
       "      <td>-1</td>\n",
       "      <td>-1</td>\n",
       "      <td>178</td>\n",
       "      <td>blue</td>\n",
       "      <td>...</td>\n",
       "      <td>3</td>\n",
       "      <td>0.00597</td>\n",
       "      <td>0.42857</td>\n",
       "      <td>0.00000</td>\n",
       "      <td>7</td>\n",
       "      <td>0</td>\n",
       "      <td>3</td>\n",
       "      <td>2</td>\n",
       "      <td>Low</td>\n",
       "      <td>Medium</td>\n",
       "    </tr>\n",
       "  </tbody>\n",
       "</table>\n",
       "<p>1 rows × 32 columns</p>\n",
       "</div>"
      ],
      "text/plain": [
       "          idx_trial  trial  idx_time  side_left_right  side_top_bottom  \\\n",
       "Video ID                                                                 \n",
       "2                 2  Catch        -1               -1               -1   \n",
       "\n",
       "          idx_velocity_y  idx_x_position  idx_y_position  length Final Color  \\\n",
       "Video ID                                                                       \n",
       "2                     -1              -1              -1     178        blue   \n",
       "\n",
       "          ...  correct_response  PCCNVC_effective  PCCOVC_effective  \\\n",
       "Video ID  ...                                                         \n",
       "2         ...                 3           0.00597           0.42857   \n",
       "\n",
       "          PVC_effective  Bounces  Random Bounces  Color Change Bounce  \\\n",
       "Video ID                                                                \n",
       "2               0.00000        7               0                    3   \n",
       "\n",
       "          Color Change Random  Hazard Rate  Contingency  \n",
       "Video ID                                                 \n",
       "2                           2          Low       Medium  \n",
       "\n",
       "[1 rows x 32 columns]"
      ]
     },
     "execution_count": 290,
     "metadata": {},
     "output_type": "execute_result"
    }
   ],
   "source": [
    "df_data.iloc[excluded_change_indices]"
   ]
  },
  {
   "cell_type": "code",
   "execution_count": 291,
   "metadata": {},
   "outputs": [],
   "source": [
    "# idx = int(df_data.iloc[excluded_change_indices].index[0]) #[df_data[\"trial\"] == \"bounce\"][df_data[\"idx_time\"] == 0].index[1])\n",
    "# print(samples[idx, -50:], targets[idx, -50:, -6:])"
   ]
  },
  {
   "cell_type": "markdown",
   "metadata": {},
   "source": [
    "# Effective Statistics\n",
    "\n",
    "Target change indices:\n",
    "- [-4] - Velocity Change Bounce\n",
    "- [-3] - Velocity Change Random\n",
    "- [-2] - Color Change bounce\n",
    "- [-1] - Color change random"
   ]
  },
  {
   "cell_type": "markdown",
   "metadata": {},
   "source": [
    "## Fig - Hazard Rate Effective Stats"
   ]
  },
  {
   "cell_type": "code",
   "execution_count": 292,
   "metadata": {},
   "outputs": [
    {
     "data": {
      "image/png": "[encoded data removed]",
      "text/plain": [
       "<Figure size 800x400 with 2 Axes>"
      ]
     },
     "metadata": {},
     "output_type": "display_data"
    }
   ],
   "source": [
    "# Create the subplots\n",
    "fig, axes = plt.subplots(1, 2, figsize=(8,4))\n",
    "palette = visualize.get_color_palette(\n",
    "    [\"Low\", \"High\"],\n",
    "    ((\"Blues\", 1), (\"Reds\", 1)),\n",
    "    linspace_range=(0.75, 1),\n",
    ")\n",
    "\n",
    "plot_params = [\n",
    "    (\"PCCNVC_effective\", \"Observed Hazard Rates\", \"Effective Hazard Rate Bins\", {}),\n",
    "    (\"Color Change Random\", \"Number of Random Color Changes\", \"Random Color Change Bins\", {\"discrete\": True}),\n",
    "]\n",
    "\n",
    "for i, (ax, (col, title, xlabel, plot_dict)) in enumerate(zip(axes, plot_params)):\n",
    "    sns.histplot(\n",
    "        df_data,\n",
    "        x=col,\n",
    "        hue=\"Hazard Rate\",\n",
    "        palette=palette,\n",
    "        ax=ax,\n",
    "        legend=True if i == len(plot_params) - 1 else False,\n",
    "        **plot_dict,\n",
    "    )\n",
    "    ax.set_title(title)\n",
    "    ax.set_xlabel(xlabel)\n",
    "    if i != 0:\n",
    "        ax.set_ylabel(None)\n",
    "\n",
    "plt.tight_layout()\n",
    "plt.show()"
   ]
  },
  {
   "cell_type": "markdown",
   "metadata": {},
   "source": [
    "## Fig - Contingency Effective Stats"
   ]
  },
  {
   "cell_type": "code",
   "execution_count": 295,
   "metadata": {},
   "outputs": [
    {
     "data": {
      "image/png": "[encoded data removed]",
      "text/plain": [
       "<Figure size 1200x400 with 3 Axes>"
      ]
     },
     "metadata": {},
     "output_type": "display_data"
    }
   ],
   "source": [
    "# Create the subplots\n",
    "fig, axes = plt.subplots(1, 3, figsize=(12,4))\n",
    "palette = visualize.get_color_palette(\n",
    "    [\"Low\", \"Medium\", \"High\"],\n",
    "    ((\"Blues\", 1), (\"Wistia\", 1), (\"Reds\", 1)),\n",
    "    linspace_range=(0.75, 1),\n",
    ")\n",
    "palette_trial = visualize.get_color_palette(\n",
    "    [\"Straight\", \"Catch\", \"Bounce\"],\n",
    "    ((\"Blues\", 1), (\"Wistia\", 1), (\"Reds\", 1)),\n",
    "    linspace_range=(0.75, 1),\n",
    ")\n",
    "\n",
    "plot_params = [\n",
    "    (\n",
    "        \"PCCOVC_effective\", \n",
    "        \"Observed Trial Contingency\", \n",
    "        \"Effective Contingency Bins\", \n",
    "        {\n",
    "            \"hue\": \"Contingency\", \n",
    "            \"palette\": palette,\n",
    "        },\n",
    "    ),\n",
    "    (\n",
    "        \"Color Change Bounce\", \n",
    "        \"Number of Bounce Color Changes\", \n",
    "        \"Bounce Color Changes\", \n",
    "        {\n",
    "            \"discrete\": True, \n",
    "            \"hue\": \"Contingency\",\n",
    "            \"palette\": palette,\n",
    "        }\n",
    "    ),\n",
    "    (\n",
    "        \"Bounces\", \n",
    "        \"Number of Bounces\", \n",
    "        \"Number of Bounces\", \n",
    "        {\n",
    "            \"discrete\": True, \n",
    "            \"multiple\":\"dodge\", \n",
    "            \"hue\": \"trial\",\n",
    "            \"palette\": palette_trial,\n",
    "        }\n",
    "    ),\n",
    "]\n",
    "\n",
    "for i, (ax, (col, title, xlabel, plot_dict)) in enumerate(zip(axes, plot_params)):\n",
    "    sns.histplot(\n",
    "        df_data,\n",
    "        x=col,\n",
    "        # palette=palette,\n",
    "        ax=ax,\n",
    "        legend=True if i == len(plot_params) - 1 else False,\n",
    "        **plot_dict,\n",
    "    )\n",
    "    ax.set_title(title)\n",
    "    ax.set_xlabel(xlabel)\n",
    "    if i != 0:\n",
    "        ax.set_ylabel(None)\n",
    "\n",
    "plt.tight_layout()\n",
    "plt.show()"
   ]
  },
  {
   "cell_type": "code",
   "execution_count": null,
   "metadata": {},
   "outputs": [],
   "source": []
  },
  {
   "cell_type": "code",
   "execution_count": null,
   "metadata": {},
   "outputs": [],
   "source": []
  },
  {
   "cell_type": "code",
   "execution_count": null,
   "metadata": {},
   "outputs": [],
   "source": []
  },
  {
   "cell_type": "code",
   "execution_count": null,
   "metadata": {},
   "outputs": [],
   "source": []
  }
 ],
 "metadata": {
  "anaconda-cloud": {},
  "kernelspec": {
   "display_name": "Python 3 (ipykernel)",
   "language": "python",
   "name": "python3"
  },
  "language_info": {
   "codemirror_mode": {
    "name": "ipython",
    "version": 3
   },
   "file_extension": ".py",
   "mimetype": "text/x-python",
   "name": "python",
   "nbconvert_exporter": "python",
   "pygments_lexer": "ipython3",
   "version": "3.12.7"
  },
  "widgets": {
   "application/vnd.jupyter.widget-state+json": {
    "state": {},
    "version_major": 2,
    "version_minor": 0
   }
  }
 },
 "nbformat": 4,
 "nbformat_minor": 4
}
